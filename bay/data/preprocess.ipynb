{
 "cells": [
  {
   "cell_type": "code",
   "execution_count": 1,
   "id": "904a123e",
   "metadata": {},
   "outputs": [],
   "source": [
    "import numpy as np\n",
    "import pandas as pd\n",
    "import datetime\n",
    "import torch\n",
    "import matplotlib.pyplot as plt"
   ]
  },
  {
   "cell_type": "code",
   "execution_count": null,
   "id": "598c0b8a",
   "metadata": {},
   "outputs": [
    {
     "ename": "",
     "evalue": "",
     "output_type": "error",
     "traceback": [
      "\u001b[1;31mFailed to start the Kernel. \n",
      "Unable to start Kernel 'lc (Python 3.8.12)' due to connection timeout. \n",
      "View Jupyter <a href='command:jupyter.viewOutput'>log</a> for further details."
     ]
    }
   ],
   "source": [
    "data = np.load('data.npy')"
   ]
  },
  {
   "cell_type": "code",
   "execution_count": 3,
   "id": "0757cbde",
   "metadata": {},
   "outputs": [
    {
     "name": "stdout",
     "output_type": "stream",
     "text": [
      "(36288, 365, 2)\n",
      "(36288, 365, 12)\n"
     ]
    }
   ],
   "source": [
    "data_f= data[:,:,:,0].sum(axis=-1)\n",
    "data_s = data[:,:,:,1].mean(axis=-1)\n",
    "data1 = np.concatenate((data_f[...,np.newaxis],data_s[...,np.newaxis]),axis =-1)\n",
    "print(data1.shape)\n",
    "data2 = data.reshape(data.shape[0],data.shape[1],-1)\n",
    "print(data2.shape)"
   ]
  },
  {
   "cell_type": "code",
   "execution_count": 44,
   "id": "8622cbcb",
   "metadata": {
    "scrolled": true
   },
   "outputs": [
    {
     "name": "stdout",
     "output_type": "stream",
     "text": [
      "tensor([[ 84.,  76., 102.,  ...,  80.,  95.,  81.],\n",
      "        [ 81.,  61.,  97.,  ...,  79.,  91.,  85.],\n",
      "        [ 93.,  60.,  92.,  ...,  76.,  91.,  83.],\n",
      "        ...,\n",
      "        [108.,  92., 111.,  ...,  59.,   0.,  67.],\n",
      "        [116.,  82., 107.,  ...,  55.,   0.,  68.],\n",
      "        [107., 156., 103.,  ...,  48.,   0.,  58.]], dtype=torch.float64)\n",
      "[-0.5234924513382968, -0.2967055662619579, -0.517854778599395, -0.503800438832051, -0.5292586525944459, -0.5640080133152553, -0.3900004357197459, -0.40724107387797, -0.5914746875350116, -0.6274045566363755, -0.354161138910476, -0.27772922243801773, -0.5765009069334932, -0.6005542121752934, -0.48139516693098955, -0.6090544180031501, -0.48008579335845547, -0.6463845854635316, -0.603948822813072, -0.6814877457489653, -0.2955162997771603, -0.4747042901861855, -0.5231392355689656, -0.3499099003987299, -0.5113064892272301, -0.42808974879834094, -0.4758237010139199, -0.6414236908509574, -0.43340529135942285, -0.48888856687159465, -0.43548062806437443, -0.27547998617092545, -0.6177073513464332, -0.49515053932631714, -0.3431909014870755, -0.48741739943922985, -0.4538438741078067, -0.5590073056116001, -0.4842843254820762, -0.5272056379893767, -0.6269463120068735, -0.4594136972957596, -0.5378183211452611, -0.48178151248584794, -0.4181455720684075, -0.6439533611797088, -0.5811187097649151, -0.5833057522827955, -0.42234992319073944, -0.2820731166987527, -0.23927101487116526, -0.5944679562001874, -0.6608285664967364, -0.3639954800080573, -0.5176355885572279, -0.4969215779414145, -0.4158290621742662, -0.5209523283673428, -0.2807060166863241, -0.4802650763520393, -0.4915496402150668, -0.5319441502053253, -0.44017829590249297, -0.5855501352173615, -0.5571778245138533, -0.39573070696705615, -0.43962964259046355, -0.44336697973754735, -0.49880305384890955, -0.28212948674878957, -0.35931766440098944, -0.5156758979843797, -0.5172015207409614, -0.5484421359910752, -0.5541274372245557, -0.47466026229158326, -0.6152806575271477, -0.5866826361357113, -0.5025844826071929, -0.4254415007804935, -0.5685080272998264, -0.37711752407398225, -0.439461780006622, -0.5050569836038881, -0.7066575606581147, -0.5877484230580453, -0.5997046658177296, -0.4654674987446705, -0.3688665516208933, -0.541063601708713, -0.32089626182580494, -0.44008704695311385, -0.46114670305666344, -0.42415017357510215, -0.34414157063602424, -0.48637613594690066, -0.3490154460547911, -0.4522955557415745, -0.488578922902379, -0.7030155974464136, -0.5982817348838916, -0.5168431982523151, -0.5466761288458293, -0.4606311221972747, -0.5713953355838232, -0.46124672993276866, -0.5025789533496358, -0.6416210170058598, -0.43317783379405134, -0.5937824022516376, -0.3720706789547322, -0.3402269629146483, -0.43830322148507767, -0.4449573337013256, -0.4119731966539175, -0.5876561317411554, -0.5579095458663655, -0.39137060753001374, -0.57435119212136, -0.28516129549201635, -0.4607239100650006, -0.3733666829615961, -0.7145733620006325, -0.45434538312493494, -0.47941659249896695, -0.4520000436618294, -0.6026804843593987, -0.3633960581156052, -0.5243458185760272, -0.5558121512838555, -0.5323049224386198, -0.5496639695508186, -0.6054805716003407, -0.2608376329730141, -0.593083297623167, -0.5795404837769871, -0.4776969057783805, -0.6395290726602293, -0.4774958665336916, -0.6297193662433979, -0.6038069044023752, -0.45574501358180175, -0.3111235388976408, -0.5466908159484706, -0.5903179613292394, -0.4471447916088538, -0.2999246813635239, -0.47196048176672767, -0.29185097561524864, -0.3896229014186973, -0.30771388134458844, -0.41113915622676894, -0.3508166998892497, -0.5143172198706167, -0.49477405016233866, -0.4910065758495155, -0.339726880718974, -0.6140476113305959, -0.3068532335740945, -0.11677996615357161, -0.4748138045584685, -0.704630194730159, -0.3541340187421481, -0.43985678932926653, -0.4931927960232015, -0.4418957910347839, -0.6199602360786357, -0.6228130245464115, -0.6136139842847179, -0.46356670011078205, -0.813473510036622, -0.6100761623102123, -0.42786650816650196, -0.4353580126450031, -0.557501160450062, -0.5625951835649481, -0.4378747641453087, -0.49814591238769673, -0.43251653427745035, -0.31202906908578587, -0.49784992722400795, -0.6805986728381774, -0.29144268204569107, -0.6190214853871583, -0.4782503373122986, -0.4946063127229965, -0.5811311254160841, -0.4661420398285317, -0.49404983386161194, -0.43085885307677774, -0.5863283762904855, -0.6182101418746748, -0.6576054037838805, -0.6127921088417431, -0.6247079130871079, -0.45117452956141624, -0.6066936226165336, -0.6461144457247222, -0.43280882304449714, -0.3429925094209811, -0.4742440911560665, -0.6290680877376498, -0.38811622971241455, -0.532207084113708, -0.32936885529255483, -0.4700459527457642, -0.4116572781339595, -0.5421552773192788, 0.07238247867901375, -0.33369309205536724, -0.5306543124826626, -0.5077824305991079, -0.3702986583781324, -0.4442760639736316, -0.28962259318036626, -0.3162223089708163, -0.5131037974100533, -0.5001907625717835, -0.47145648537827906, -0.32042847936750823, -0.4120918434913392, -0.4541808061626411, -0.667748460526302, -0.48732192903997024, -0.5626057696004796, -0.6312809966573721, -0.5628371764046207, -0.5212797930747685, -0.44399410430473546, -0.49743343588876676, -0.31387039262566435, -0.41338853102826406, -0.3244044863580256, -0.37456743334625336, -0.22333259193272384, -0.6764950252510664, -0.7124915268507571, -0.29619086879460665, -0.5004492148565194, -0.5453113842201683, -0.49096054000022016, -0.5110630785780923, -0.5511868331226811, -0.40341875420618944, -0.3795106729550741, -0.6629685950977592, -0.48867500374619666, -0.3052898051399127, -0.10893953582378883, -0.6556371025763831, -0.3741314493167009, -0.4451762955010403, -0.5649268057846277, -0.4766331804645906, -0.4953423921396119, -0.5456740109362302, -0.5392091364469712, -0.4383049699472389, -0.4140370567773046, -0.40339957442124613, -0.5328197255991907, -0.44355962741913796, -0.41770745367109163, -0.548713672795403, -0.6003384150199588, -0.43009037308483056, -0.4788428539259099, -0.5697223028149399, -0.6177910371751831, -0.4166958598048034, -0.4347226155666325, -0.3930973974522708, -0.4814755229321194, -0.5576214476228474, -0.5155953392557394, -0.566475000728799, -0.6094922151389172, -0.5753160391985181, -0.5163121382029706, -0.65149040573527, -0.6617177912906468, -0.5260455882323957, -0.5487277833240694, -0.5299770567398011, -0.6324480873497302, -0.5344040704659282, -0.5950333091447519, -0.5550344697600512, -0.6973326057391787, -0.4419821097890499, -0.5957512467511139, -0.6280203081979288, -0.4211771736845669, -0.6962930582120415, -0.7133310857064435, -0.6901274361577201, -0.6588630154652017, -0.42872528138577914, -0.747298875411666, -0.4077440128667308, -0.42239730138122134, -0.4162065559400198, -0.39125101668056045, -0.3964945181193384, -0.4966009104666668, -0.5795149044672695, -0.4154053156666748, -0.36837806891585845, -0.30830516029822974, -0.20813137749439972, -0.5549379362224208, -0.21163738478107255, 0.0337126283975492, -0.32393171300613977, -0.5279345203164754, -0.34105196354341677, -0.5856753998469585, -0.35364963749296935, -0.5238587842027992, -0.3632011135579769, -0.34384074801908404, -0.2968749645024317, -0.31129239856395946, -0.39272819243280227, -0.35742247619704487, -0.4081114622811007, -0.4213957487666229, -0.5048651451740432, -0.35128195368978976, -0.47101072155043794, -0.27134671126454424, -0.4332863853333704, -0.5600930418839268, -0.5135900122363289, -0.47266994264793794, -0.5516496466636283, -0.580064943177228, -0.35699400542503434, -0.5786060798137495, -0.5158634315348745, -0.5646952220596967, -0.3958034135264351, -0.30941982434794024, -0.47866897009720516, -0.439652373472929, -0.37543556583904664, -0.33862761845459355, -0.376157834386126, -0.4073169120166609, -0.13152843582344734, -0.3748971722501708, -0.5315889266050651, -0.5169919124776243, -0.41629589941287615, -0.5646952220596967, -0.5536018665456826, -0.4962766835391749, -0.5796251347854794, -0.5599784489926796, -0.5602953834458825, -0.4101511921988478, -0.5921773069917415, -0.38808621653635716, -0.5255588134476344, -0.597151986086688]\n"
     ]
    }
   ],
   "source": [
    "print(data2)\n",
    "coef = []\n",
    "for i in range(365):\n",
    "    coef.append(np.corrcoef(data2[:,i], data3[:,i])[0,1])\n",
    "print(coef)"
   ]
  },
  {
   "cell_type": "code",
   "execution_count": null,
   "id": "66127010",
   "metadata": {
    "scrolled": true
   },
   "outputs": [
    {
     "ename": "",
     "evalue": "",
     "output_type": "error",
     "traceback": [
      "\u001b[1;31mFailed to start the Kernel. \n",
      "Unable to start Kernel 'lc (Python 3.8.12)' due to connection timeout. \n",
      "View Jupyter <a href='command:jupyter.viewOutput'>log</a> for further details."
     ]
    }
   ],
   "source": [
    "e = np.load('edge_list.npy')\n",
    "# edge_list=[]\n",
    "# count = 0\n",
    "# for i in range(graph.shape[0]):\n",
    "#     for j in range(i, graph.shape[0]):\n",
    "#         if graph[i,j]>0:\n",
    "#             edge_list.append((i,j))\n",
    "#             count +=1\n",
    "# print(count)\n",
    "# np.save('edge_list.npy',np.array(edge_list))\n"
   ]
  },
  {
   "cell_type": "code",
   "execution_count": 66,
   "id": "ed4d5e7b",
   "metadata": {
    "scrolled": true
   },
   "outputs": [],
   "source": [
    "# subgraph_id = np.loadtxt('node_adjacent.txt')\n",
    "# subgraph = np.load('node_subgraph.npy')\n",
    "# dist = np.loadtxt('node_dist.txt')\n",
    "# vds = pd.read_csv('vds_info.csv',index_col=0)\n",
    "# graph = np.zeros((subgraph.shape[0],subgraph.shape[0]))\n",
    "# for i in range(graph.shape[0]):\n",
    "#     neighbours = subgraph_id[i]\n",
    "#     for j in range(len(neighbours)):\n",
    "#         graph[i,int(neighbours[j])]=subgraph[i,0,j]\n",
    "# for i in range(graph.shape[0]):\n",
    "#     for j in range(graph.shape[1]):\n",
    "#         if graph[i,j]>0:\n",
    "#             graph[j,i] = graph[i,j]\n",
    "# np.save('asy_graph.npy',graph)"
   ]
  },
  {
   "cell_type": "code",
   "execution_count": 2,
   "id": "88816a2c",
   "metadata": {
    "scrolled": false
   },
   "outputs": [
    {
     "name": "stdout",
     "output_type": "stream",
     "text": [
      "(36288, 365, 6, 2)\n",
      "784\n",
      "392\n",
      "56.752393980848154\n",
      "4386\n"
     ]
    }
   ],
   "source": [
    "events = pd.read_csv('total_events.csv',index_col=0)\n",
    "events = events[events['duration']>10]\n",
    "events = events.reset_index()\n",
    "# print(events.head())\n",
    "data = np.load('data.npy')\n",
    "print(data.shape)\n",
    "vds = pd.read_csv('vds_info.csv',index_col=0)\n",
    "# print(vds.head())\n",
    "graph = np.load('total_graph.npy')\n",
    "print((graph>0).sum())\n",
    "asygraph = np.load('asy_graph.npy')\n",
    "print((asygraph>0).sum())\n",
    "print(events['duration'].mean())\n",
    "print(len(events))"
   ]
  },
  {
   "cell_type": "code",
   "execution_count": 3,
   "id": "3e81a2b3",
   "metadata": {},
   "outputs": [
    {
     "name": "stdout",
     "output_type": "stream",
     "text": [
      "      index  incident_id           start_time  duration  freeway    CA PM  \\\n",
      "0         3     16918082  2017-01-01 16:44:00        78   I280-N     R0.4   \n",
      "1         4     16918153  2017-01-01 17:34:00        59   I280-N     R2.2   \n",
      "2         5     16918324  2017-01-01 19:36:00        66   I280-N     R2.9   \n",
      "3         6     16918642  2017-01-02 01:55:00        18   I280-N   10.718   \n",
      "4         7     16919217  2017-01-02 12:02:00        24   I280-N     R1.3   \n",
      "...     ...          ...                  ...       ...      ...      ...   \n",
      "4381   6704     17182492  2017-05-06 15:02:00        55  US101-S   48.426   \n",
      "4382   6705     17182510  2017-05-06 15:04:00        40  US101-S   39.826   \n",
      "4383   6706     17182817  2017-05-06 17:51:00        22  US101-S   44.126   \n",
      "4384   6707     17182876  2017-05-06 18:26:00        15  US101-S   39.626   \n",
      "4385   6708     17183134  2017-05-06 21:47:00        19  US101-S  R27.292   \n",
      "\n",
      "      Abs PM Source              Area                     Location  \\\n",
      "0        0.4    CHP          San Jose    Us101 I280 N Con - I280 N   \n",
      "1        2.2    CHP          San Jose     I280 N - I280 N Sr87 Con   \n",
      "2        2.9    CHP          San Jose     I280 N - Sr87 I280 N Con   \n",
      "3       12.1    CHP          San Jose   I280 N Sr85 S Con - Sr85 S   \n",
      "4        1.3    CHP          San Jose          I280 N - 7th St Ofr   \n",
      "...      ...    ...               ...                          ...   \n",
      "4381   398.1    CHP      Redwood City             Us101 S - Sr85 S   \n",
      "4382   389.5    CHP          San Jose  Us101 S Sr87 S Con - Sr87 S   \n",
      "4383   393.8    CHP          San Jose  Us101 S - Lawrence Expy Ofr   \n",
      "4384   389.3    CHP          San Jose      Us101 S - Brokaw Rd Ofr   \n",
      "4385   376.6    CHP  Hollister Gilroy          Us101 S - Bernal Rd   \n",
      "\n",
      "                        Description  \n",
      "0               FIRE-Report of Fire  \n",
      "1      1183-Trfc Collision-Unkn Inj  \n",
      "2                    CFIRE-Car Fire  \n",
      "3     1179-Trfc Collision-1141 Enrt  \n",
      "4        1182-Trfc Collision-No Inj  \n",
      "...                             ...  \n",
      "4381            1125-Traffic Hazard  \n",
      "4382     1182-Trfc Collision-No Inj  \n",
      "4383            1125-Traffic Hazard  \n",
      "4384  1179-Trfc Collision-1141 Enrt  \n",
      "4385            1125-Traffic Hazard  \n",
      "\n",
      "[4386 rows x 11 columns]\n"
     ]
    }
   ],
   "source": [
    "print(events)"
   ]
  },
  {
   "cell_type": "code",
   "execution_count": null,
   "id": "1b558f58",
   "metadata": {
    "scrolled": false
   },
   "outputs": [
    {
     "name": "stdout",
     "output_type": "stream",
     "text": [
      "0\n",
      "2287\n"
     ]
    }
   ],
   "source": [
    "date_range = pd.date_range('2017/1/1 00:00','2017/5/6 23:59',freq='5t')\n",
    "def local_match(freeway, pm, thre):\n",
    "    # first seletion\n",
    "    indicator=0\n",
    "    f_vds = vds[vds['freeway']==freeway].copy()\n",
    "    f_vds['distance'] = f_vds['abs_pm']-pm\n",
    "    if (f_vds['distance']>0).all():\n",
    "        upsensor_id = -1\n",
    "        downsensor_id =  f_vds['distance'].idxmin()\n",
    "        if abs(f_vds.loc[downsensor_id,'distance'])<thre:\n",
    "            sensor_id = downsensor_id\n",
    "        else:\n",
    "            sensor_id = -1\n",
    "    elif (f_vds['distance']<0).all():\n",
    "        downsensor_id = -1\n",
    "        upsensor_id =  f_vds['distance'].idxmax()\n",
    "        if abs(f_vds.loc[upsensor_id,'distance'])<thre:\n",
    "            sensor_id = upsensor_id\n",
    "        else:\n",
    "            sensor_id = -1\n",
    "    else:\n",
    "        upsensor_id = f_vds[f_vds['distance']<0]['distance'].idxmax()\n",
    "        downsensor_id =  f_vds[f_vds['distance']>=0]['distance'].idxmin()\n",
    "        if downsensor_id in f_vds.index.tolist():\n",
    "            indicator =1\n",
    "        \n",
    "        updist = abs(f_vds.loc[upsensor_id,'distance'])\n",
    "        downdist = abs(f_vds.loc[downsensor_id,'distance'])\n",
    "\n",
    "        if updist>thre and downdist>thre:\n",
    "            sensor_id = -1\n",
    "        else:\n",
    "            if updist<downdist:\n",
    "                sensor_id = upsensor_id\n",
    "            else:\n",
    "                sensor_id = downsensor_id\n",
    "    return sensor_id, upsensor_id, downsensor_id\n",
    "\n",
    "def local_match2(freeway, pm, thre):\n",
    "    # first seletion\n",
    "#     indicator = False\n",
    "    f_vds = vds[vds['freeway']==freeway].copy()\n",
    "    f_vds['distance'] = f_vds['abs_pm']-pm\n",
    "    n_id = abs(f_vds['distance']).idxmin()\n",
    "    n_dist = abs(f_vds['distance']).min()\n",
    "    \n",
    "    if (f_vds['distance']>0).all():\n",
    "        upsensor_id = -1\n",
    "        downsensor_id =  f_vds['distance'].idxmin()\n",
    "        if abs(f_vds.loc[downsensor_id,'distance'])<thre:\n",
    "            sensor_id = downsensor_id\n",
    "        else:\n",
    "            sensor_id = -1\n",
    "    elif (f_vds['distance']<0).all():\n",
    "        downsensor_id = -1\n",
    "        upsensor_id =  f_vds['distance'].idxmax()\n",
    "        if abs(f_vds.loc[upsensor_id,'distance'])<thre:\n",
    "            sensor_id = upsensor_id\n",
    "        else:\n",
    "            sensor_id = -1\n",
    "    else:\n",
    "        sensor_id = -1\n",
    "        if freeway[-1] in ['N', 'E']:\n",
    "            upsensor_id = f_vds[f_vds['distance']<0]['distance'].idxmax()\n",
    "#             downsensor_ids =  [[f_vds[f_vds['distance']>=0]['distance'].idxmin()]]\n",
    "        else:\n",
    "            upsensor_id = f_vds[f_vds['distance']>0]['distance'].idxmin()\n",
    "#             downsensor_ids =  [[f_vds[f_vds['distance']<=0]['distance'].idxmax()]]\n",
    "        updist = abs(f_vds.loc[upsensor_id,'distance'])\n",
    "        downsensor_ids = np.argwhere(asygraph[upsensor_id]>0)\n",
    "#         print(upsensor_id, downsensor_idx)\n",
    "#         print(downsensor_ids)\n",
    "#         indicator = not ([downsensor_idx] in downsensor_ids)\n",
    "        if len(downsensor_ids):\n",
    "            for downsensor in downsensor_ids:\n",
    "                if downsensor[0] in f_vds.index.tolist():\n",
    "                    downdist = abs(f_vds.loc[downsensor,'distance'].values)  \n",
    "                    downsensor_id = downsensor[0]\n",
    "                    if updist>thre and downdist>thre:\n",
    "                        pass\n",
    "                    else:\n",
    "                        if updist<downdist:\n",
    "                            sensor_id = upsensor_id\n",
    "                        else:\n",
    "                            sensor_id = downsensor_id\n",
    "                    break\n",
    "                else:\n",
    "#                     indicator = True\n",
    "                    if updist<thre:\n",
    "                        sensor_id = upsensor_id\n",
    "                    downsensor_id = downsensor[0]\n",
    "        else:\n",
    "            indicator = True\n",
    "            if updist<thre:\n",
    "                sensor_id = upsensor_id\n",
    "            downsensor_id = -1\n",
    "    return sensor_id, upsensor_id, downsensor_id, n_id, n_dist\n",
    "\n",
    "\n",
    "def time_match(start_time, duration):\n",
    "    begin_date=date_range[date_range>=start_time][0]\n",
    "    end_date = date_range[date_range<=pd.to_datetime(start_time)+datetime.timedelta(minutes=int(duration))][-1]\n",
    "    begin, end = np.argwhere(date_range==begin_date)[0,0],np.argwhere(date_range==end_date)[0,0] # date to time step\n",
    "    return begin, end\n",
    "\n",
    "\n",
    "# match function\n",
    "label_v = np.zeros((data.shape[0],data.shape[1]))\n",
    "label_e = np.zeros((data.shape[0],graph.shape[0],graph.shape[0]))\n",
    "node_event, edge_event = 0, 0\n",
    "thre = 2\n",
    "nears = []\n",
    "times = []\n",
    "for i in range(events.shape[0]):\n",
    "    event = events.loc[i]\n",
    "    # 确定事件发生的最近点\n",
    "    freeway, pm = event.freeway, float(event['Abs PM'])\n",
    "    sensor_id, upsensor_id, downsensor_id, n_id, n_dist = local_match2(freeway, pm, thre)\n",
    "    nears.append((n_id,n_dist))\n",
    "#     print(sensor_id, upsensor_id, downsensor_id)\n",
    "    # 标注故障时间\n",
    "    start_time ,duration = event.start_time, event.duration\n",
    "    begin, end = time_match(start_time,duration)\n",
    "    times.append(begin)\n",
    "    if sensor_id == -1 and upsensor_id>=0 and downsensor_id>=0:\n",
    "        label_e[begin:end+1, upsensor_id, downsensor_id]=1\n",
    "        label_e[begin:end+1, downsensor_id, upsensor_id]=1\n",
    "        edge_event += 1\n",
    "    elif sensor_id>=0:\n",
    "        label_v[begin:end+1, sensor_id]=1\n",
    "        node_event += 1     \n",
    "\n",
    "locals = [a[0] for a in nears]\n",
    "dist = [a[1] for a in nears]\n",
    "\n",
    "print(edge_event)\n",
    "print(node_event)"
   ]
  },
  {
   "cell_type": "code",
   "execution_count": 11,
   "id": "77ff98fa",
   "metadata": {},
   "outputs": [],
   "source": [
    "np.save('event_label_v_only.npy',label_v)"
   ]
  },
  {
   "cell_type": "code",
   "execution_count": 21,
   "id": "28d3570c",
   "metadata": {},
   "outputs": [
    {
     "data": {
      "image/png": "[encoded data removed]",
      "text/plain": [
       "<Figure size 432x288 with 1 Axes>"
      ]
     },
     "metadata": {
      "needs_background": "light"
     },
     "output_type": "display_data"
    }
   ],
   "source": [
    "# print(times[1278])\n",
    "# a = data1[times[1278]-48+2016:times[1278]+48+2016,locals[1278]]\n",
    "# print(a.shape)\n",
    "# b= np.zeros(3)\n",
    "# c= np.zeros(3)\n",
    "# print(np.corrcoef(b,c))\n",
    "plt.figure()\n",
    "plt.hist(dist,32)\n",
    "plt.xticks(fontsize=14)\n",
    "plt.yticks(fontsize=14)\n",
    "plt.xlabel('distance(mile)',fontsize=16)\n",
    "plt.ylabel('count',fontsize=16)\n",
    "# plt.savefig('output.eps',dpi=300)\n",
    "plt.show()\n"
   ]
  },
  {
   "cell_type": "code",
   "execution_count": 8,
   "id": "9ec7b045",
   "metadata": {},
   "outputs": [
    {
     "name": "stdout",
     "output_type": "stream",
     "text": [
      "(36288, 365, 2)\n",
      "(2016, 365, 2)\n",
      "(2016, 365, 2)\n"
     ]
    }
   ],
   "source": [
    "print(data1.shape)\n",
    "data3 = data1.reshape(-1, 2016, 365, 2).mean(axis=0)\n",
    "data4 = data1.reshape(-1, 2016, 365, 2).std(axis=0)\n",
    "print(data3.shape)\n",
    "print(data4.shape)"
   ]
  },
  {
   "cell_type": "code",
   "execution_count": 98,
   "id": "c698d90d",
   "metadata": {},
   "outputs": [
    {
     "name": "stderr",
     "output_type": "stream",
     "text": [
      "/data/liuchen/miniconda3/envs/lc/lib/python3.8/site-packages/numpy/core/fromnumeric.py:3372: RuntimeWarning: Mean of empty slice.\n",
      "  return _methods._mean(a, axis=axis, dtype=dtype,\n",
      "/data/liuchen/miniconda3/envs/lc/lib/python3.8/site-packages/numpy/core/_methods.py:170: RuntimeWarning: invalid value encountered in double_scalars\n",
      "  ret = ret.dtype.type(ret / rcount)\n",
      "/data/liuchen/miniconda3/envs/lc/lib/python3.8/site-packages/numpy/lib/function_base.py:2559: RuntimeWarning: invalid value encountered in true_divide\n",
      "  c /= stddev[:, None]\n",
      "/data/liuchen/miniconda3/envs/lc/lib/python3.8/site-packages/numpy/lib/function_base.py:2560: RuntimeWarning: invalid value encountered in true_divide\n",
      "  c /= stddev[None, :]\n"
     ]
    },
    {
     "data": {
      "image/png": "[encoded data removed]",
      "text/plain": [
       "<Figure size 432x288 with 2 Axes>"
      ]
     },
     "metadata": {
      "needs_background": "light"
     },
     "output_type": "display_data"
    }
   ],
   "source": [
    "def event_stat1(data, locals, times, dist, dua=12, flow=True):\n",
    "    drops = {}\n",
    "    for i in range(160):\n",
    "        drops[str(i)]=[0]\n",
    "    ori = {}\n",
    "    for i in range(160):\n",
    "        ori[str(i)]=[0]\n",
    "    \n",
    "    for i in range(len(locals)):\n",
    "        if flow:\n",
    "            record = data[times[i] - dua: times[i] + dua, locals[i],0] #(T,)\n",
    "            his = data[(times[i] - dua)%2016: (times[i] + dua)%2016, locals[i],0] #(T,)\n",
    "            stds = data4[(times[i] - dua)%2016: (times[i] + dua)%2016, locals[i], 0]\n",
    "        else:\n",
    "            record = data[times[i] - dua: times[i] + dua, locals[i],1] #(T,)\n",
    "            his = data[(times[i] - dua)%2016: (times[i] + dua)%2016, locals[i],1] #(T,)\n",
    "            stds = data4[(times[i] - dua)%2016: (times[i] + dua)%2016, locals[i], 1] #(T, )\n",
    "        \n",
    "        no = record[:dua] \n",
    "        no_his = his[:dua]\n",
    "        ab = record[dua:]\n",
    "        ab_his = his[dua:]\n",
    "\n",
    "\n",
    "        if his.shape[0]==(dua*2) and record.shape[0]==(dua*2):\n",
    "            # no_sim = np.mean(np.abs(no - no_his))\n",
    "            # ab_sim = np.mean(np.abs(ab - ab_his))\n",
    "            no_sim = np.abs(np.mean(no - no_his))\n",
    "            ab_sim = np.abs(np.mean(ab - ab_his))\n",
    "            # drop = np.max(ab_sim-no_sim,0)\n",
    "            drops[str(int(dist[i]//0.01))].append(ab_sim)\n",
    "            ori[str(int(dist[i]//0.01))].append(no_sim)\n",
    "    \n",
    "    # print(drops)      \n",
    "    result = []\n",
    "    oris = []\n",
    "    for i in range(160):\n",
    "        # result.append(np.max(drops[str(i)]))\n",
    "        if len(drops[str(i)])>2:\n",
    "            result.append(np.sort(drops[str(i)])[-3])\n",
    "        else:\n",
    "            result.append(0)\n",
    "        oris.append(np.mean(ori[str(i)]))\n",
    "    return result,oris\n",
    "\n",
    "def event_stat2(data, locals, times, dua=12, flow=True):\n",
    "    drops = {}\n",
    "    for i in range(160):\n",
    "        drops[str(i)]=[0]\n",
    "    for i in range(len(locals)):\n",
    "        if flow:\n",
    "            record = data[times[i] - dua: times[i] + dua, locals[i],0] #(T, D)\n",
    "            his = data[(times[i] - dua)%2016: (times[i] + dua)%2016, locals[i],0] #(T, D)\n",
    "        else:\n",
    "            record = data[times[i] - dua: times[i] + dua, locals[i],1] #(T, D)\n",
    "            his = data[(times[i] - dua)%2016: (times[i] + dua)%2016, locals[i],1] #(T, D)\n",
    "        # print(record.shape)\n",
    "        no = record[:dua] \n",
    "        no_his = his[:dua]\n",
    "        ab = record[dua:]\n",
    "        ab_his = his[dua:]\n",
    "        if his.shape[0]==(dua*2) and record.shape[0]==(dua*2):\n",
    "            no_sim = np.corrcoef(no,no_his)[0,1]\n",
    "            ab_sim = np.corrcoef(ab,ab_his)[0,1]\n",
    "            drop = (no_sim - ab_sim)\n",
    "            if not np.isnan(drop):\n",
    "                drops[str(int(dist[i]//0.01))].append(drop)\n",
    "    # print(drops)      \n",
    "    result = []\n",
    "    for i in range(160):\n",
    "        # result.append(np.mean(drops[str(i)]))\n",
    "        if len(drops[str(i)])>2:\n",
    "            result.append(np.sort(drops[str(i)])[-3])\n",
    "        else:\n",
    "            result.append(0)\n",
    "    return result\n",
    "\n",
    "drop1,ori1 = event_stat1(data1, locals, times, dist, dua=48, flow=True)\n",
    "drop11 = [np.mean(drop1[:i]) for i in range(160)]  # (i:i+5)\n",
    "ori11 = [np.mean(ori1[i:i+5]) for i in range(160)]\n",
    "drop2 = event_stat2(data2, locals, times, dua=48, flow=True)\n",
    "drop22 = [np.mean(drop2[:i]) for i in range(160)]\n",
    "fig = plt.figure()\n",
    "ax1 = fig.add_subplot(111)\n",
    "ins1=ax1.plot(np.arange(0,1.6,0.01),drop11,color='#FF69B4',label='M/L')\n",
    "ax2 = ax1.twinx()\n",
    "ins2=ax2.plot(np.arange(0,1.6,0.01),drop22,color='#1E90FF',label='M/P')\n",
    "labs=[l.get_label() for l in (ins1+ins2)]\n",
    "ax1.legend(ins1+ins2,labs,fontsize=16)\n",
    "# ax3 = fig.add_subplot(313)\n",
    "# plt.plot(np.array(drop22)-np.array(ori11))\n",
    "# ax1.set_xticks(np.arange(0, 1.6,0.1))\n",
    "ax1.tick_params(labelsize=14)\n",
    "ax1.set_yticks(np.arange(0,15,2))\n",
    "plt.tick_params(labelsize=14)\n",
    "ax2.set_yticks(np.arange(0,1.1,0.2))\n",
    "ax2.tick_params(labelsize=14)\n",
    "ax1.set_xlabel('Distance threshold(mile)',fontsize=15)\n",
    "ax1.set_ylabel('Mean Metric(L-1)',fontsize=15)\n",
    "ax2.set_ylabel('Mean Metric(PCC)',fontsize=15)\n",
    "plt.subplots_adjust(right=0.88)\n",
    "plt.savefig('output.png',dpi=300)\n",
    "plt.show()\n",
    "# plt.savefig('output.eps',dpi=300)"
   ]
  },
  {
   "cell_type": "code",
   "execution_count": null,
   "metadata": {},
   "outputs": [],
   "source": [
    "def event_stat1(data, locals, times, dua=12, flow=True):\n",
    "    drops = []\n",
    "    for i in range(len(locals)):\n",
    "        if flow:\n",
    "            record = data[times[i] - dua: times[i] + dua, locals[i],0] #(T,)\n",
    "            his = data[times[i] - dua - 2016: times[i] + dua- 2016, locals[i],0] #(T,)\n",
    "        else:\n",
    "            record = data[times[i] - dua: times[i] + dua, locals[i],1] #(T,)\n",
    "            his = data[times[i] - dua - 2016: times[i] + dua- 2016, locals[i],1] #(T,)\n",
    "        no = record[:dua] \n",
    "        no_his = his[:dua]\n",
    "        ab = record[dua:]\n",
    "        ab_his = his[dua:]\n",
    "        if his.shape[0]==(dua*2) and record.shape[0]==(dua*2):\n",
    "            no_sim = np.mean(np.abs(no - no_his))\n",
    "            ab_sim = np.mean(np.abs(ab - ab_his))\n",
    "            drop = ab_sim-no_sim\n",
    "            drops.append(drop)\n",
    "\n",
    "    return np.mean(drops)\n",
    "\n",
    "def event_stat2(data, locals, times, dua=12, flow=True):\n",
    "    drops = []\n",
    "    for i in range(len(locals)):\n",
    "        if flow:\n",
    "            record = data[times[i] - dua: times[i] + dua, locals[i],0] #(T, D)\n",
    "            his = data[times[i] - dua + 2016: times[i] + dua+ 2016, locals[i],0] #(T, D)\n",
    "        else:\n",
    "            record = data[times[i] - dua: times[i] + dua, locals[i],1] #(T, D)\n",
    "            his = data[times[i] - dua + 2016: times[i] + dua+ 2016, locals[i],1] #(T, D)\n",
    "        # print(record.shape)\n",
    "        no = record[:dua] \n",
    "        no_his = his[:dua]\n",
    "        ab = record[dua:]\n",
    "        ab_his = his[dua:]\n",
    "        if his.shape[0]==(dua*2) and record.shape[0]==(dua*2):\n",
    "            no_sim = np.corrcoef(no,no_his)[0,1]\n",
    "            ab_sim = np.corrcoef(ab,ab_his)[0,1]\n",
    "            drop = (no_sim - ab_sim)\n",
    "            if not np.isnan(drop):\n",
    "                drops.append(drop)\n",
    "            # print(i,drop)\n",
    "    return np.mean(drops)\n",
    "\n",
    "drop1 = event_stat1(data1, locals, times, dua=12, flow=False)\n",
    "print(drop1)\n",
    "drop2 = event_stat2(data2, locals, times, dua=12, flow=False)\n",
    "print(drop2)"
   ]
  },
  {
   "cell_type": "code",
   "execution_count": 29,
   "id": "f1468e54",
   "metadata": {},
   "outputs": [
    {
     "name": "stderr",
     "output_type": "stream",
     "text": [
      "/data/liuchen/miniconda3/envs/lc/lib/python3.8/site-packages/numpy/lib/function_base.py:2559: RuntimeWarning: invalid value encountered in true_divide\n",
      "  c /= stddev[:, None]\n",
      "/data/liuchen/miniconda3/envs/lc/lib/python3.8/site-packages/numpy/lib/function_base.py:2560: RuntimeWarning: invalid value encountered in true_divide\n",
      "  c /= stddev[None, :]\n"
     ]
    },
    {
     "name": "stdout",
     "output_type": "stream",
     "text": [
      "0.01411208386992371\n"
     ]
    }
   ],
   "source": [
    "def event_divide(data, locals, times, dua=48, flow=True):\n",
    "    drops = []\n",
    "    for i in range(len(locals)):\n",
    "        if flow:\n",
    "            record = data[times[i] - dua: times[i] + dua, locals[i],:6] #(T, D)\n",
    "        else:\n",
    "            record = data[times[i] - dua: times[i] + dua, locals[i],6:] #(T, D)\n",
    "        idx = np.argwhere(np.all(record[...,:]==0,axis=0))\n",
    "        record = np.delete(record,idx, axis=1)\n",
    "        record = record.transpose(1,0)\n",
    "        normal = record[:,:dua]\n",
    "        abnormal = record[:,dua:]\n",
    "        if normal.shape[-1]==dua and abnormal.shape[-1]==dua and normal.shape[0]>1:\n",
    "            nor_cor = np.corrcoef(normal)\n",
    "            ab_cor = np.corrcoef(abnormal)\n",
    "            drop = nor_cor - ab_cor\n",
    "            drop[np.where(drop<1)]=0.0\n",
    "            drop = np.mean(drop)\n",
    "        # print(drop)\n",
    "        if not np.isnan(drop):\n",
    "            drops.append(drop)\n",
    "\n",
    "    return np.mean(drops)\n",
    "\n",
    "drop = event_divide(data4, locals, times, dua=24,flow= False)\n",
    "print(drop)"
   ]
  },
  {
   "cell_type": "code",
   "execution_count": 9,
   "id": "b5e6e182",
   "metadata": {},
   "outputs": [
    {
     "name": "stdout",
     "output_type": "stream",
     "text": [
      "18077.0\n",
      "36154.0\n"
     ]
    }
   ],
   "source": [
    "label_edge = np.zeros((data.shape[0],e.shape[0]))\n",
    "for i in range(data.shape[0]):\n",
    "    acc_edge = label_e[i]\n",
    "    for j in range(e.shape[0]):\n",
    "        if acc_edge[e[j,0],e[j,1]]==1:\n",
    "            label_edge[i,j]=1\n",
    "print(label_edge.sum())\n",
    "print(label_e.sum())\n",
    "np.save('event_label_e.npy',label_edge)\n",
    "np.save('event_label_v.npy',label_v)"
   ]
  },
  {
   "cell_type": "code",
   "execution_count": 265,
   "id": "4cd29a02",
   "metadata": {},
   "outputs": [
    {
     "name": "stdout",
     "output_type": "stream",
     "text": [
      "     vds_id  freeway   abs_pm         lon        lat                   name\n",
      "id                                                                         \n",
      "0    400001  US101-N  387.897 -121.901149  37.364085       NB 880 rm-n-loop\n",
      "244  404753  US101-N  388.007 -121.902989  37.364689  oppo NB 101 rm-s-loop\n"
     ]
    }
   ],
   "source": [
    "print(vds.loc[[0,244]])"
   ]
  },
  {
   "cell_type": "code",
   "execution_count": 2,
   "id": "9a766a6a",
   "metadata": {},
   "outputs": [],
   "source": [
    "acc_label = np.load('accident_label.npy')"
   ]
  },
  {
   "cell_type": "code",
   "execution_count": 3,
   "id": "17aecda3",
   "metadata": {},
   "outputs": [
    {
     "name": "stdout",
     "output_type": "stream",
     "text": [
      "(36288, 365)\n"
     ]
    }
   ],
   "source": [
    "print(acc_label.shape)"
   ]
  },
  {
   "cell_type": "code",
   "execution_count": 5,
   "id": "49d62532",
   "metadata": {
    "scrolled": true
   },
   "outputs": [
    {
     "name": "stdout",
     "output_type": "stream",
     "text": [
      "0.6779651675485009\n"
     ]
    }
   ],
   "source": [
    "anomaly = [1 if np.sum(row)!=0 else 0 for row in acc_label]\n",
    "print(sum(anomaly)/len(anomaly))"
   ]
  },
  {
   "cell_type": "code",
   "execution_count": 6,
   "id": "49b28997",
   "metadata": {},
   "outputs": [
    {
     "name": "stdout",
     "output_type": "stream",
     "text": [
      "0.003757232852552487\n"
     ]
    }
   ],
   "source": [
    "print(acc_label.sum()/(acc_label.shape[0]*acc_label.shape[1]))"
   ]
  }
 ],
 "metadata": {
  "interpreter": {
   "hash": "cf385c0cc3f85135bc0a8f678b97d364561e41e26bffba72d54a2bd430e4ca9b"
  },
  "kernelspec": {
   "display_name": "Python 3.8.12 ('lc')",
   "language": "python",
   "name": "python3"
  },
  "language_info": {
   "codemirror_mode": {
    "name": "ipython",
    "version": 3
   },
   "file_extension": ".py",
   "mimetype": "text/x-python",
   "name": "python",
   "nbconvert_exporter": "python",
   "pygments_lexer": "ipython3",
   "version": "3.8.18"
  }
 },
 "nbformat": 4,
 "nbformat_minor": 5
}
